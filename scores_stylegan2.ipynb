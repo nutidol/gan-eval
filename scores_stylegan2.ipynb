{
 "cells": [
  {
   "cell_type": "code",
   "execution_count": 1,
   "metadata": {},
   "outputs": [],
   "source": [
    "import numpy as np"
   ]
  },
  {
   "cell_type": "markdown",
   "metadata": {},
   "source": [
    "### FID\n",
    "```$ CUDA_VISIBLE_DEVICES=4,5,6,7 python calc_metrics.py --metrics=fid50k_full --data=/data/ffhq/images1024x1024 --mirror=1 --network=https://api.ngc.nvidia.com/v2/models/nvidia/research/stylegan2/versions/1/files/stylegan2-ffhq-1024x1024.pkl --gpus=4 ```"
   ]
  },
  {
   "cell_type": "code",
   "execution_count": 2,
   "metadata": {},
   "outputs": [
    {
     "name": "stdout",
     "output_type": "stream",
     "text": [
      "2.7596815546086466\n",
      "0.020107977116748443\n"
     ]
    }
   ],
   "source": [
    "FID = [2.7272585407256664,2.779901746043564,2.7645846815973085,2.7264298713915984,2.7828743466273758,2.75881250248504,\n",
"             2.761918057233534,2.7856733134716576,2.745083227260868,2.764279259249854]\n",
    "FID_mean = np.mean(FID)\n",
    "FID_std = np.std(FID)\n",
    "print(FID_mean)\n",
    "print(FID_std)"
   ]
  },
  {
   "cell_type": "markdown",
   "metadata": {},
   "source": [
    "### KID\n",
    "```$ CUDA_VISIBLE_DEVICES=4,5,6,7 python calc_metrics.py --metrics=kid50k_full --data=/data/ffhq/images1024x1024 --mirror=1 --network=https://api.ngc.nvidia.com/v2/models/nvidia/research/stylegan2/versions/1/files/stylegan2-ffhq-1024x1024.pkl --gpus=4 ```"
   ]
  },
  {
   "cell_type": "code",
   "execution_count": 3,
   "metadata": {},
   "outputs": [
    {
     "name": "stdout",
     "output_type": "stream",
     "text": [
      "0.00047151369819818775\n",
      "2.4158664066064946e-05\n"
     ]
    }
   ],
   "source": [
    "KID = [0.0004882887712712591,0.0004903244519519558,0.00047260697447447906,0.0004331047397397333,0.00043669512512512025,0.00044095860360358983,\n",
"              0.0004959043793793398,0.0004731069294293729,0.000483829782282287,0.0005003172247247402]\n",
    "KID_mean = np.mean(KID)\n",
    "KID_std = np.std(KID)\n",
    "print(KID_mean)\n",
    "print(KID_std)"
   ]
  },
  {
   "cell_type": "markdown",
   "metadata": {},
   "source": [
    "### P&R\n",
    "```$ CUDA_VISIBLE_DEVICES=4,5,6,7 python calc_metrics.py --metrics=pr50k3_full_recall --data=/data/ffhq/images1024x1024 --mirror=1 --network=https://api.ngc.nvidia.com/v2/models/nvidia/research/stylegan2/versions/1/files/stylegan2-ffhq-1024x1024.pkl --gpus=4 ```"
   ]
  },
  {
   "cell_type": "code",
   "execution_count": 4,
   "metadata": {},
   "outputs": [
    {
     "name": "stdout",
     "output_type": "stream",
     "text": [
      "0.6843079924583435\n",
      "0.0021607160048331842\n"
     ]
    }
   ],
   "source": [
    "Precision = [0.6801999807357788,0.6846399903297424,0.6836000084877014,0.6876800060272217,0.6817399859428406\n",
    "             ,0.686680018901825,0.6854599714279175,0.6847599744796753,0.6827399730682373,0.6855800151824951]\n",
    "\n",
    "Precision_mean = np.mean(Precision)\n",
    "Precision_std = np.std(Precision)\n",
    "print(Precision_mean)\n",
    "print(Precision_std)"
   ]
  },
  {
   "cell_type": "code",
   "execution_count": 5,
   "metadata": {},
   "outputs": [
    {
     "name": "stdout",
     "output_type": "stream",
     "text": [
      "0.49449714422225954\n",
      "0.002465582494483126\n"
     ]
    }
   ],
   "source": [
    "Recall = [0.4943285584449768,0.49225714802742004,0.4969285726547241,0.49077144265174866,0.49654287099838257,\n",
    "          0.49387142062187195,0.49455714225769043,0.4977571368217468,0.49715715646743774,0.49079999327659607]\n",
    "\n",
    "Recall_mean = np.mean(Recall)\n",
    "Recall_std = np.std(Recall)\n",
    "print(Recall_mean)\n",
    "print(Recall_std)"
   ]
  },
  {
   "cell_type": "markdown",
   "metadata": {},
   "source": [
    "### Pathlength\n"
   ]
  },
  {
   "cell_type": "code",
   "execution_count": 6,
   "metadata": {},
   "outputs": [
    {
     "name": "stdout",
     "output_type": "stream",
     "text": [
      "144.9429702758789\n",
      "0.62516403847902\n"
     ]
    }
   ],
   "source": [
    "PathLength = [144.6552276611328,145.53915405273438,143.89309692382812,144.57086181640625,\n",
    "              144.99765014648438,145.4723663330078,145.43765258789062,145.89688110351562,144.0538330078125,144.91297912597656]\n",
    "\n",
    "PathLength_mean = np.mean(PathLength)\n",
    "PathLength_std = np.std(PathLength)\n",
    "print(PathLength_mean)\n",
    "print(PathLength_std)"
   ]
  },
  {
   "cell_type": "code",
   "execution_count": null,
   "metadata": {},
   "outputs": [],
   "source": []
  },
  {
   "cell_type": "code",
   "execution_count": null,
   "metadata": {},
   "outputs": [],
   "source": []
  },
  {
   "cell_type": "code",
   "execution_count": null,
   "metadata": {},
   "outputs": [],
   "source": []
  }
 ],
 "metadata": {
  "kernelspec": {
   "display_name": "stylegan3",
   "language": "python",
   "name": "stylegan3"
  },
  "language_info": {
   "codemirror_mode": {
    "name": "ipython",
    "version": 3
   },
   "file_extension": ".py",
   "mimetype": "text/x-python",
   "name": "python",
   "nbconvert_exporter": "python",
   "pygments_lexer": "ipython3",
   "version": "3.9.12"
  }
 },
 "nbformat": 4,
 "nbformat_minor": 4
}
