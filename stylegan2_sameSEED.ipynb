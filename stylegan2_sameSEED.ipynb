{
 "cells": [
  {
   "cell_type": "code",
   "execution_count": 1,
   "metadata": {},
   "outputs": [
    {
     "name": "stdout",
     "output_type": "stream",
     "text": [
      "2.752263520576448\n",
      "0.017030666173757033\n"
     ]
    }
   ],
   "source": [
    "# {\"results\": {\"fid50k_full\": 2.7370910712394947}, \"metric\": \"fid50k_full\", \"total_time\": 281.0727970600128, \"total_time_str\": \"4m 41s\", \"num_gpus\": 4, \"snapshot_pkl\": \"https://api.ngc.nvidia.com/v2/models/nvidia/research/stylegan2/versions/1/files/stylegan2-ffhq-1024x1024.pkl\", \"timestamp\": 1659609329.0888002}\n",
    "# {\"results\": {\"fid50k_full\": 2.}, \"metric\": \"fid50k_full\", \"total_time\": 264.48931336402893, \"total_time_str\": \"4m 24s\", \"num_gpus\": 4, \"snapshot_pkl\": \"https://api.ngc.nvidia.com/v2/models/nvidia/research/stylegan2/versions/1/files/stylegan2-ffhq-1024x1024.pkl\", \"timestamp\": 1659609660.5664592}\n",
    "# {\"results\": {\"fid50k_full\": 2.}, \"metric\": \"fid50k_full\", \"total_time\": 264.72475147247314, \"total_time_str\": \"4m 25s\", \"num_gpus\": 4, \"snapshot_pkl\": \"https://api.ngc.nvidia.com/v2/models/nvidia/research/stylegan2/versions/1/files/stylegan2-ffhq-1024x1024.pkl\", \"timestamp\": 1659610350.861414}\n",
    "# {\"results\": {\"fid50k_full\": 2.723415518169671}, \"metric\": \"fid50k_full\", \"total_time\": 265.8154077529907, \"total_time_str\": \"4m 26s\", \"num_gpus\": 4, \"snapshot_pkl\": \"https://api.ngc.nvidia.com/v2/models/nvidia/research/stylegan2/versions/1/files/stylegan2-ffhq-1024x1024.pkl\", \"timestamp\": 1659610648.4184084}\n",
    "# {\"results\": {\"fid50k_full\": 2.}, \"metric\": \"fid50k_full\", \"total_time\": 265.89904975891113, \"total_time_str\": \"4m 26s\", \"num_gpus\": 4, \"snapshot_pkl\": \"https://api.ngc.nvidia.com/v2/models/nvidia/research/stylegan2/versions/1/files/stylegan2-ffhq-1024x1024.pkl\", \"timestamp\": 1659610938.475038}\n",
    "\n",
    "# {\"results\": {\"fid50k_full\": 2.}, \"metric\": \"fid50k_full\", \"total_time\": 265.6298849582672, \"total_time_str\": \"4m 26s\", \"num_gpus\": 4, \"snapshot_pkl\": \"https://api.ngc.nvidia.com/v2/models/nvidia/research/stylegan2/versions/1/files/stylegan2-ffhq-1024x1024.pkl\", \"timestamp\": 1659611754.178243}\n",
    "# {\"results\": {\"fid50k_full\": 2.}, \"metric\": \"fid50k_full\", \"total_time\": 267.2855861186981, \"total_time_str\": \"4m 27s\", \"num_gpus\": 4, \"snapshot_pkl\": \"https://api.ngc.nvidia.com/v2/models/nvidia/research/stylegan2/versions/1/files/stylegan2-ffhq-1024x1024.pkl\", \"timestamp\": 1659612464.2342784}\n",
    "# {\"results\": {\"fid50k_full\": 2.}, \"metric\": \"fid50k_full\", \"total_time\": 264.87144231796265, \"total_time_str\": \"4m 25s\", \"num_gpus\": 4, \"snapshot_pkl\": \"https://api.ngc.nvidia.com/v2/models/nvidia/research/stylegan2/versions/1/files/stylegan2-ffhq-1024x1024.pkl\", \"timestamp\": 1659612800.410464}\n",
    "# {\"results\": {\"fid50k_full\": 2.}, \"metric\": \"fid50k_full\", \"total_time\": 264.5670976638794, \"total_time_str\": \"4m 25s\", \"num_gpus\": 4, \"snapshot_pkl\": \"https://api.ngc.nvidia.com/v2/models/nvidia/research/stylegan2/versions/1/files/stylegan2-ffhq-1024x1024.pkl\", \"timestamp\": 1659613561.187121}\n",
    "# {\"results\": {\"fid50k_full\": 2.}, \"metric\": \"fid50k_full\", \"total_time\": 265.0166025161743, \"total_time_str\": \"4m 25s\", \"num_gpus\": 4, \"snapshot_pkl\": \"https://api.ngc.nvidia.com/v2/models/nvidia/research/stylegan2/versions/1/files/stylegan2-ffhq-1024x1024.pkl\", \"timestamp\": 1659614241.0109913}\n",
    "\n",
    "import numpy as np \n",
    "\n",
    "FID = [2.7370910712394947,2.7526172340959842,2.7557595507870793,2.723415518169671,2.7397583290929486\n",
    "       ,2.7686035969671323,2.762387288904195,2.787615117221648,2.7497319482609996,2.7456555510253238]\n",
    "FID_mean = np.mean(FID)\n",
    "FID_std = np.std(FID)\n",
    "print(FID_mean)\n",
    "print(FID_std)\n",
    "\n",
    "\n",
    "\n"
   ]
  }
 ],
 "metadata": {
  "kernelspec": {
   "display_name": "stylegan3",
   "language": "python",
   "name": "stylegan3"
  },
  "language_info": {
   "codemirror_mode": {
    "name": "ipython",
    "version": 3
   },
   "file_extension": ".py",
   "mimetype": "text/x-python",
   "name": "python",
   "nbconvert_exporter": "python",
   "pygments_lexer": "ipython3",
   "version": "3.9.12"
  }
 },
 "nbformat": 4,
 "nbformat_minor": 4
}
