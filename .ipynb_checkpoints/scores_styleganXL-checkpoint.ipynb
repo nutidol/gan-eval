{
 "cells": [
  {
   "cell_type": "code",
   "execution_count": 1,
   "metadata": {},
   "outputs": [],
   "source": [
    "import numpy as np"
   ]
  },
  {
   "cell_type": "markdown",
   "metadata": {},
   "source": [
    "### FID\n",
    "```$ CUDA_VISIBLE_DEVICES=4,5,6,7 python calc_metrics.py --metrics=fid50k_full --network=https://s3.eu-central-1.amazonaws.com/avg-projects/stylegan_xl/models/ffhq1024.pkl --gpus=4 ```"
   ]
  },
  {
   "cell_type": "code",
   "execution_count": 2,
   "metadata": {},
   "outputs": [
    {
     "name": "stdout",
     "output_type": "stream",
     "text": [
      "2.0646411055090175\n",
      "0.028132539724124366\n"
     ]
    }
   ],
   "source": [
    "FID = [2.091872384829234,2.07246609605838,2.0955975758229646,2.0410124288781364,2.0721483572661206,1.9992258600680695\n",
    "       ,2.052426949965757,2.065054913758872,2.0591091125293004,2.0974973759133375]\n",
    "\n",
    "FID_mean = np.mean(FID)\n",
    "FID_std = np.std(FID)\n",
    "print(FID_mean)\n",
    "print(FID_std)"
   ]
  },
  {
   "cell_type": "markdown",
   "metadata": {},
   "source": [
    "### KID\n",
    "```$ CUDA_VISIBLE_DEVICES=4,5,6,7 python calc_metrics.py --metrics=kid50k_full --data=/data/ffhq/images1024x1024 --mirror=1 --network=https://api.ngc.nvidia.com/v2/models/nvidia/research/stylegan3/versions/1/files/stylegan3-t-ffhq-1024x1024.pkl --gpus=4```"
   ]
  },
  {
   "cell_type": "code",
   "execution_count": 3,
   "metadata": {},
   "outputs": [
    {
     "name": "stdout",
     "output_type": "stream",
     "text": [
      "0.00025139150675675224\n",
      "1.9330507275230654e-05\n"
     ]
    }
   ],
   "source": [
    "KID = [0.00024156784284281002,0.00023678208958952837, 0.00022257476226226117,0.0002658086036035956,0.00025222946446445347,\n",
    "       0.000280755615615617,0.00028497637137139917,0.0002528320020020056,0.00023333735985987006,0.00024305095595598231]\n",
    "\n",
    "\n",
    "KID_mean = np.mean(KID)\n",
    "KID_std = np.std(KID)\n",
    "print(KID_mean)\n",
    "print(KID_std)"
   ]
  },
  {
   "cell_type": "markdown",
   "metadata": {},
   "source": [
    "### P&R\n",
    "```$ CUDA_VISIBLE_DEVICES=4,5,6,7 python calc_metrics.py --metrics=pr50k3_full --data=/data/ffhq/images1024x1024 --mirror=1 --network=https://api.ngc.nvidia.com/v2/models/nvidia/research/stylegan3/versions/1/files/stylegan3-t-ffhq-1024x1024.pkl --gpus=4 ```"
   ]
  },
  {
   "cell_type": "code",
   "execution_count": 4,
   "metadata": {},
   "outputs": [
    {
     "name": "stdout",
     "output_type": "stream",
     "text": [
      "0.6477800011634827\n",
      "0.0022365262991582277\n"
     ]
    }
   ],
   "source": [
    "Precision = [0.6507999897003174,0.6457599997520447,0.6461600065231323,0.6512399911880493,0.6500599980354309,\n",
    "             0.6466000080108643,0.6483200192451477,0.6465200185775757,0.64410001039505,0.6482399702072144]\n",
    "\n",
    "Precision_mean = np.mean(Precision)\n",
    "Precision_std = np.std(Precision)\n",
    "print(Precision_mean)\n",
    "print(Precision_std)"
   ]
  },
  {
   "cell_type": "code",
   "execution_count": 5,
   "metadata": {},
   "outputs": [
    {
     "name": "stdout",
     "output_type": "stream",
     "text": [
      "0.5244385719299316\n",
      "0.0034409889188617183\n"
     ]
    }
   ],
   "source": [
    "Recall = [0.5191143155097961,0.5285571217536926,0.529785692691803,0.5216571688652039,0.5241285562515259,\n",
    "          0.5205143094062805,0.527899980545044,0.5265856981277466,0.5237571597099304,0.5223857164382935]\n",
    "\n",
    "Recall_mean = np.mean(Recall)\n",
    "Recall_std = np.std(Recall)\n",
    "print(Recall_mean)\n",
    "print(Recall_std)"
   ]
  }
 ],
 "metadata": {
  "kernelspec": {
   "display_name": "stylegan3",
   "language": "python",
   "name": "stylegan3"
  },
  "language_info": {
   "codemirror_mode": {
    "name": "ipython",
    "version": 3
   },
   "file_extension": ".py",
   "mimetype": "text/x-python",
   "name": "python",
   "nbconvert_exporter": "python",
   "pygments_lexer": "ipython3",
   "version": "3.9.12"
  }
 },
 "nbformat": 4,
 "nbformat_minor": 4
}
