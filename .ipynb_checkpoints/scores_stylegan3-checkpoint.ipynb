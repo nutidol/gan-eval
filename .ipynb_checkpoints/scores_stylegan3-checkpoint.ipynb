{
 "cells": [
  {
   "cell_type": "code",
   "execution_count": 1,
   "metadata": {},
   "outputs": [],
   "source": [
    "import numpy as np"
   ]
  },
  {
   "cell_type": "markdown",
   "metadata": {},
   "source": [
    "### FID\n",
    "```$ CUDA_VISIBLE_DEVICES=4,5,6,7 python calc_metrics.py --metrics=fid50k_full --data=/data/ffhq/images1024x1024 --mirror=1 --network=https://api.ngc.nvidia.com/v2/models/nvidia/research/stylegan3/versions/1/files/stylegan3-t-ffhq-1024x1024.pkl --gpus=4 ```"
   ]
  },
  {
   "cell_type": "code",
   "execution_count": 2,
   "metadata": {},
   "outputs": [
    {
     "name": "stdout",
     "output_type": "stream",
     "text": [
      "2.8148775697535564\n",
      "0.032287231348491596\n"
     ]
    }
   ],
   "source": [
    "FID = [2.8124594616570855,2.81675467127910562,2.7809071166993515,2.779572579580559,2.776291851089927,2.8352314633589417\n",
    "       ,2.797693507273834,2.882810740381104,2.817622939048329,2.8494313671673295]\n",
    "\n",
    "\n",
    "FID_mean = np.mean(FID)\n",
    "FID_std = np.std(FID)\n",
    "print(FID_mean)\n",
    "print(FID_std)"
   ]
  },
  {
   "cell_type": "markdown",
   "metadata": {},
   "source": [
    "### KID\n",
    "```$ CUDA_VISIBLE_DEVICES=4,5,6,7 python calc_metrics.py --metrics=kid50k_full --data=/data/ffhq/images1024x1024 --mirror=1 --network=https://api.ngc.nvidia.com/v2/models/nvidia/research/stylegan3/versions/1/files/stylegan3-t-ffhq-1024x1024.pkl --gpus=4```"
   ]
  },
  {
   "cell_type": "code",
   "execution_count": 3,
   "metadata": {},
   "outputs": [
    {
     "name": "stdout",
     "output_type": "stream",
     "text": [
      "0.0008555291358858895\n",
      "2.9333516241858254e-05\n"
     ]
    }
   ],
   "source": [
    "KID = [0.0008345195720720722,0.0008981990765765841, 0.0008488663013013137,0.0008402412912913086,0.0008871375400400576,\n",
    "       0.0008667611861861769,0.0008313295020019997,0.0008068896296296271,0.0008983225825825866,0.0008430246771771681]\n",
    "\n",
    "KID_mean = np.mean(KID)\n",
    "KID_std = np.std(KID)\n",
    "print(KID_mean)\n",
    "print(KID_std)"
   ]
  },
  {
   "cell_type": "markdown",
   "metadata": {},
   "source": [
    "### P&R\n",
    "```$ CUDA_VISIBLE_DEVICES=4,5,6,7 python calc_metrics.py --metrics=pr50k3_full --data=/data/ffhq/images1024x1024 --mirror=1 --network=https://api.ngc.nvidia.com/v2/models/nvidia/research/stylegan3/versions/1/files/stylegan3-t-ffhq-1024x1024.pkl --gpus=4 ```"
   ]
  },
  {
   "cell_type": "code",
   "execution_count": 4,
   "metadata": {},
   "outputs": [
    {
     "name": "stdout",
     "output_type": "stream",
     "text": [
      "0.6568179905414582\n",
      "0.0013973010832918078\n"
     ]
    }
   ],
   "source": [
    "Precision = [0.6559799909591675,0.6581799983978271,0.6553599834442139,0.65447998046875,0.6569200158119202,\n",
    "             0.6565399765968323,0.6560199856758118,0.6573799848556519,0.6595399975776672,0.6577799916267395]\n",
    "\n",
    "Precision_mean = np.mean(Precision)\n",
    "Precision_std = np.std(Precision)\n",
    "print(Precision_mean)\n",
    "print(Precision_std)"
   ]
  },
  {
   "cell_type": "code",
   "execution_count": 5,
   "metadata": {},
   "outputs": [
    {
     "name": "stdout",
     "output_type": "stream",
     "text": [
      "0.5392328560352325\n",
      "0.0016635159899840023\n"
     ]
    }
   ],
   "source": [
    "Recall = [0.5381285548210144,0.5365714430809021,0.5405285954475403,0.5388143062591553,0.5414857268333435,\n",
    "          0.5420428514480591,0.5398571491241455,0.5393142700195312,0.5377714037895203,0.5378142595291138]\n",
    "\n",
    "Recall_mean = np.mean(Recall)\n",
    "Recall_std = np.std(Recall)\n",
    "print(Recall_mean)\n",
    "print(Recall_std)"
   ]
  },
  {
   "cell_type": "markdown",
   "metadata": {},
   "source": [
    "### Path Length\n",
    "\n",
    "```$ CUDA_VISIBLE_DEVICES=4,5,6,7 python calc_metrics.py --metrics=ppl2_wend --data=/data/ffhq/images1024x1024 --mirror=1 --network=https://api.ngc.nvidia.com/v2/models/nvidia/research/stylegan3/versions/1/files/stylegan3-t-ffhq-1024x1024.pkl --gpus=4 ```"
   ]
  },
  {
   "cell_type": "code",
   "execution_count": 6,
   "metadata": {},
   "outputs": [
    {
     "name": "stdout",
     "output_type": "stream",
     "text": [
      "808.474072265625\n",
      "4.641077257188135\n"
     ]
    }
   ],
   "source": [
    "PathLength = [808.185546875,809.5584716796875,806.943115234375,806.6029663085938,808.583251953125,\n",
    "              815.8250732421875,808.541259765625,806.8677978515625,798.267822265625,815.3654174804688]\n",
    "\n",
    "PathLength_mean = np.mean(PathLength)\n",
    "PathLength_std = np.std(PathLength)\n",
    "print(PathLength_mean)\n",
    "print(PathLength_std)"
   ]
  }
 ],
 "metadata": {
  "kernelspec": {
   "display_name": "stylegan3",
   "language": "python",
   "name": "stylegan3"
  },
  "language_info": {
   "codemirror_mode": {
    "name": "ipython",
    "version": 3
   },
   "file_extension": ".py",
   "mimetype": "text/x-python",
   "name": "python",
   "nbconvert_exporter": "python",
   "pygments_lexer": "ipython3",
   "version": "3.9.12"
  }
 },
 "nbformat": 4,
 "nbformat_minor": 4
}
